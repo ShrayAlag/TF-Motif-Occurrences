{
 "cells": [
  {
   "cell_type": "code",
   "execution_count": 27,
   "metadata": {},
   "outputs": [
    {
     "name": "stdout",
     "output_type": "stream",
     "text": [
      "/home/shray/AffSeq/AffSeq_Fasta_Data\n",
      "--- 17.889721155166626 seconds ---\n"
     ]
    }
   ],
   "source": [
    "import time\n",
    "import os\n",
    "start_time = time.time()\n",
    "\n",
    "BASE_DIR = os.getcwd() + \"/AffSeq_Fasta_Data\"\n",
    "print(BASE_DIR)\n",
    "\n",
    "for pth, dirs, files in os.walk(BASE_DIR):\n",
    "    for fname in files:\n",
    "        fragments_file = open(BASE_DIR + \"/\" + fname, \"r\")\n",
    "        new_fasta_file = open(BASE_DIR + \"/\" + fname + \".fa\", \"w+\")\n",
    "\n",
    "        for element in fragments_file:\n",
    "            s = str(element)\n",
    "            split_string = s.split(\"\\t\")\n",
    "\n",
    "            if len(split_string) > 5:\n",
    "                for i in range(int(split_string[3])):\n",
    "                    new_fasta_file.write(\">\" + split_string[0] + \":\" + split_string[1] + \"-\" + split_string[2] + \"\\n\" + split_string[4].upper())\n",
    "\n",
    "print(\"--- %s seconds ---\" % (time.time() - start_time))"
   ]
  },
  {
   "cell_type": "code",
   "execution_count": null,
   "metadata": {},
   "outputs": [],
   "source": []
  }
 ],
 "metadata": {
  "kernelspec": {
   "display_name": "Python 3",
   "language": "python",
   "name": "python3"
  },
  "language_info": {
   "codemirror_mode": {
    "name": "ipython",
    "version": 3
   },
   "file_extension": ".py",
   "mimetype": "text/x-python",
   "name": "python",
   "nbconvert_exporter": "python",
   "pygments_lexer": "ipython3",
   "version": "3.7.7"
  }
 },
 "nbformat": 4,
 "nbformat_minor": 4
}
